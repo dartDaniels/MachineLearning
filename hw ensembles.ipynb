{
  "cells": [
    {
      "cell_type": "markdown",
      "metadata": {
        "id": "h_BAepPwcO72"
      },
      "source": [
        "# Домашняя работа. Деревья решений.\n",
        "\n",
        "## Полезная литература\n",
        "\n",
        "- [Habrahabr: ODS деревья решений](https://habrahabr.ru/company/ods/blog/322534/#derevo-resheniy)\n",
        "- [ВМК МГУ семинары по решающим деревьям](99-extra__ml-course-msu-Sem04_trees.pdf)\n",
        "- [Sklearn Decision Trees](http://scikit-learn.org/stable/modules/tree.html)"
      ]
    },
    {
      "cell_type": "markdown",
      "metadata": {
        "id": "F-bFvh3pcO75"
      },
      "source": [
        "## 1. Сравнение моделей деревьев\n",
        "\n",
        "В этом блоке вы сравните разные конфигурации композиций деревьев:\n",
        "- DecisionTree\n",
        "- Bagging\n",
        "- Bagging с другими настройками подбора признаков для разбиения\n",
        "- RandomForest\n",
        "\n",
        "Будем использовать [датасет с винишком](https://archive.ics.uci.edu/ml/datasets/wine+quality) - это задача то ли классификации то ли регресси - нужно предсказывать качество вина. Будем думать что это классификация.\n",
        "\n",
        "![](https://upload.wikimedia.org/wikipedia/en/thumb/7/7c/Lulz_Security.svg/300px-Lulz_Security.svg.png)"
      ]
    },
    {
      "cell_type": "markdown",
      "metadata": {
        "id": "25_qWFq0cO75"
      },
      "source": [
        "### 1.1 Чтение данных (1 балла)\n",
        "\n",
        "Данные лежат как обычно в `'./data/winequality-red.csv.gz'`.\n",
        "\n",
        "- Прочитайте их с помощью pandas\n",
        "- нарисуйте countplot целевого признака `quality`.\n",
        "- Что вы думаете по поводу количества представителей каждого класса.\n",
        "- Разбейте данные на X и y."
      ]
    },
    {
      "cell_type": "code",
      "execution_count": 33,
      "metadata": {
        "id": "JhrpQbTecO76",
        "outputId": "bd95e7ed-ab31-47be-972b-fa65b8c76aed",
        "colab": {
          "base_uri": "https://localhost:8080/",
          "height": 73
        }
      },
      "outputs": [
        {
          "output_type": "display_data",
          "data": {
            "text/plain": [
              "<IPython.core.display.HTML object>"
            ],
            "text/html": [
              "\n",
              "     <input type=\"file\" id=\"files-3e6db1e4-16d6-4db9-a456-c9a74c97b8ab\" name=\"files[]\" multiple disabled\n",
              "        style=\"border:none\" />\n",
              "     <output id=\"result-3e6db1e4-16d6-4db9-a456-c9a74c97b8ab\">\n",
              "      Upload widget is only available when the cell has been executed in the\n",
              "      current browser session. Please rerun this cell to enable.\n",
              "      </output>\n",
              "      <script>// Copyright 2017 Google LLC\n",
              "//\n",
              "// Licensed under the Apache License, Version 2.0 (the \"License\");\n",
              "// you may not use this file except in compliance with the License.\n",
              "// You may obtain a copy of the License at\n",
              "//\n",
              "//      http://www.apache.org/licenses/LICENSE-2.0\n",
              "//\n",
              "// Unless required by applicable law or agreed to in writing, software\n",
              "// distributed under the License is distributed on an \"AS IS\" BASIS,\n",
              "// WITHOUT WARRANTIES OR CONDITIONS OF ANY KIND, either express or implied.\n",
              "// See the License for the specific language governing permissions and\n",
              "// limitations under the License.\n",
              "\n",
              "/**\n",
              " * @fileoverview Helpers for google.colab Python module.\n",
              " */\n",
              "(function(scope) {\n",
              "function span(text, styleAttributes = {}) {\n",
              "  const element = document.createElement('span');\n",
              "  element.textContent = text;\n",
              "  for (const key of Object.keys(styleAttributes)) {\n",
              "    element.style[key] = styleAttributes[key];\n",
              "  }\n",
              "  return element;\n",
              "}\n",
              "\n",
              "// Max number of bytes which will be uploaded at a time.\n",
              "const MAX_PAYLOAD_SIZE = 100 * 1024;\n",
              "\n",
              "function _uploadFiles(inputId, outputId) {\n",
              "  const steps = uploadFilesStep(inputId, outputId);\n",
              "  const outputElement = document.getElementById(outputId);\n",
              "  // Cache steps on the outputElement to make it available for the next call\n",
              "  // to uploadFilesContinue from Python.\n",
              "  outputElement.steps = steps;\n",
              "\n",
              "  return _uploadFilesContinue(outputId);\n",
              "}\n",
              "\n",
              "// This is roughly an async generator (not supported in the browser yet),\n",
              "// where there are multiple asynchronous steps and the Python side is going\n",
              "// to poll for completion of each step.\n",
              "// This uses a Promise to block the python side on completion of each step,\n",
              "// then passes the result of the previous step as the input to the next step.\n",
              "function _uploadFilesContinue(outputId) {\n",
              "  const outputElement = document.getElementById(outputId);\n",
              "  const steps = outputElement.steps;\n",
              "\n",
              "  const next = steps.next(outputElement.lastPromiseValue);\n",
              "  return Promise.resolve(next.value.promise).then((value) => {\n",
              "    // Cache the last promise value to make it available to the next\n",
              "    // step of the generator.\n",
              "    outputElement.lastPromiseValue = value;\n",
              "    return next.value.response;\n",
              "  });\n",
              "}\n",
              "\n",
              "/**\n",
              " * Generator function which is called between each async step of the upload\n",
              " * process.\n",
              " * @param {string} inputId Element ID of the input file picker element.\n",
              " * @param {string} outputId Element ID of the output display.\n",
              " * @return {!Iterable<!Object>} Iterable of next steps.\n",
              " */\n",
              "function* uploadFilesStep(inputId, outputId) {\n",
              "  const inputElement = document.getElementById(inputId);\n",
              "  inputElement.disabled = false;\n",
              "\n",
              "  const outputElement = document.getElementById(outputId);\n",
              "  outputElement.innerHTML = '';\n",
              "\n",
              "  const pickedPromise = new Promise((resolve) => {\n",
              "    inputElement.addEventListener('change', (e) => {\n",
              "      resolve(e.target.files);\n",
              "    });\n",
              "  });\n",
              "\n",
              "  const cancel = document.createElement('button');\n",
              "  inputElement.parentElement.appendChild(cancel);\n",
              "  cancel.textContent = 'Cancel upload';\n",
              "  const cancelPromise = new Promise((resolve) => {\n",
              "    cancel.onclick = () => {\n",
              "      resolve(null);\n",
              "    };\n",
              "  });\n",
              "\n",
              "  // Wait for the user to pick the files.\n",
              "  const files = yield {\n",
              "    promise: Promise.race([pickedPromise, cancelPromise]),\n",
              "    response: {\n",
              "      action: 'starting',\n",
              "    }\n",
              "  };\n",
              "\n",
              "  cancel.remove();\n",
              "\n",
              "  // Disable the input element since further picks are not allowed.\n",
              "  inputElement.disabled = true;\n",
              "\n",
              "  if (!files) {\n",
              "    return {\n",
              "      response: {\n",
              "        action: 'complete',\n",
              "      }\n",
              "    };\n",
              "  }\n",
              "\n",
              "  for (const file of files) {\n",
              "    const li = document.createElement('li');\n",
              "    li.append(span(file.name, {fontWeight: 'bold'}));\n",
              "    li.append(span(\n",
              "        `(${file.type || 'n/a'}) - ${file.size} bytes, ` +\n",
              "        `last modified: ${\n",
              "            file.lastModifiedDate ? file.lastModifiedDate.toLocaleDateString() :\n",
              "                                    'n/a'} - `));\n",
              "    const percent = span('0% done');\n",
              "    li.appendChild(percent);\n",
              "\n",
              "    outputElement.appendChild(li);\n",
              "\n",
              "    const fileDataPromise = new Promise((resolve) => {\n",
              "      const reader = new FileReader();\n",
              "      reader.onload = (e) => {\n",
              "        resolve(e.target.result);\n",
              "      };\n",
              "      reader.readAsArrayBuffer(file);\n",
              "    });\n",
              "    // Wait for the data to be ready.\n",
              "    let fileData = yield {\n",
              "      promise: fileDataPromise,\n",
              "      response: {\n",
              "        action: 'continue',\n",
              "      }\n",
              "    };\n",
              "\n",
              "    // Use a chunked sending to avoid message size limits. See b/62115660.\n",
              "    let position = 0;\n",
              "    do {\n",
              "      const length = Math.min(fileData.byteLength - position, MAX_PAYLOAD_SIZE);\n",
              "      const chunk = new Uint8Array(fileData, position, length);\n",
              "      position += length;\n",
              "\n",
              "      const base64 = btoa(String.fromCharCode.apply(null, chunk));\n",
              "      yield {\n",
              "        response: {\n",
              "          action: 'append',\n",
              "          file: file.name,\n",
              "          data: base64,\n",
              "        },\n",
              "      };\n",
              "\n",
              "      let percentDone = fileData.byteLength === 0 ?\n",
              "          100 :\n",
              "          Math.round((position / fileData.byteLength) * 100);\n",
              "      percent.textContent = `${percentDone}% done`;\n",
              "\n",
              "    } while (position < fileData.byteLength);\n",
              "  }\n",
              "\n",
              "  // All done.\n",
              "  yield {\n",
              "    response: {\n",
              "      action: 'complete',\n",
              "    }\n",
              "  };\n",
              "}\n",
              "\n",
              "scope.google = scope.google || {};\n",
              "scope.google.colab = scope.google.colab || {};\n",
              "scope.google.colab._files = {\n",
              "  _uploadFiles,\n",
              "  _uploadFilesContinue,\n",
              "};\n",
              "})(self);\n",
              "</script> "
            ]
          },
          "metadata": {}
        },
        {
          "output_type": "stream",
          "name": "stdout",
          "text": [
            "Saving winequality-red.csv to winequality-red (1).csv\n"
          ]
        }
      ],
      "source": [
        "import pandas as pd\n",
        "import numpy as np\n",
        "import seaborn as sns\n",
        "import matplotlib.pyplot as plt\n",
        "from sklearn.neighbors import KNeighborsClassifier\n",
        "from sklearn.model_selection import cross_val_score\n",
        "from sklearn.pipeline import make_pipeline\n",
        "from sklearn.preprocessing import StandardScaler\n",
        "from sklearn.model_selection import cross_val_score\n",
        "from sklearn.linear_model import RidgeClassifier\n",
        "from sklearn.tree import DecisionTreeClassifier\n",
        "from sklearn.ensemble import BaggingClassifier\n",
        "from sklearn.ensemble import RandomForestClassifier\n",
        "from sklearn.ensemble import BaggingClassifier\n",
        "from sklearn.datasets import load_digits\n",
        "from google.colab import files\n",
        "uploaded = files.upload()"
      ]
    },
    {
      "cell_type": "code",
      "execution_count": 34,
      "metadata": {
        "id": "HOjGFKWOcO76",
        "outputId": "1e370465-568c-491b-ae6d-ea6658f21a43",
        "colab": {
          "base_uri": "https://localhost:8080/"
        }
      },
      "outputs": [
        {
          "output_type": "stream",
          "name": "stdout",
          "text": [
            "   fixed acidity  volatile acidity  citric acid  residual sugar  chlorides  \\\n",
            "0            7.4              0.70         0.00             1.9      0.076   \n",
            "1            7.8              0.88         0.00             2.6      0.098   \n",
            "2            7.8              0.76         0.04             2.3      0.092   \n",
            "3           11.2              0.28         0.56             1.9      0.075   \n",
            "4            7.4              0.70         0.00             1.9      0.076   \n",
            "\n",
            "   free sulfur dioxide  total sulfur dioxide  density    pH  sulphates  \\\n",
            "0                 11.0                  34.0   0.9978  3.51       0.56   \n",
            "1                 25.0                  67.0   0.9968  3.20       0.68   \n",
            "2                 15.0                  54.0   0.9970  3.26       0.65   \n",
            "3                 17.0                  60.0   0.9980  3.16       0.58   \n",
            "4                 11.0                  34.0   0.9978  3.51       0.56   \n",
            "\n",
            "   alcohol  quality  \n",
            "0      9.4        5  \n",
            "1      9.8        5  \n",
            "2      9.8        5  \n",
            "3      9.8        6  \n",
            "4      9.4        5  \n",
            "\n",
            "Названия столбцов:\n",
            "Index(['fixed acidity', 'volatile acidity', 'citric acid', 'residual sugar',\n",
            "       'chlorides', 'free sulfur dioxide', 'total sulfur dioxide', 'density',\n",
            "       'pH', 'sulphates', 'alcohol', 'quality'],\n",
            "      dtype='object')\n"
          ]
        }
      ],
      "source": [
        "data = pd.read_csv('winequality-red.csv', sep=';')\n",
        "print(data.head())\n",
        "print(\"\\nНазвания столбцов:\")\n",
        "print(data.columns)"
      ]
    },
    {
      "cell_type": "code",
      "execution_count": 35,
      "metadata": {
        "id": "esJSHlORcO76",
        "outputId": "bada9231-1e87-4b31-8e92-b3f905a3cfc8",
        "colab": {
          "base_uri": "https://localhost:8080/",
          "height": 720
        }
      },
      "outputs": [
        {
          "output_type": "display_data",
          "data": {
            "text/plain": [
              "<Figure size 800x600 with 1 Axes>"
            ],
            "image/png": "[encoded data removed]"
          },
          "metadata": {}
        },
        {
          "output_type": "stream",
          "name": "stdout",
          "text": [
            "Количество представителей каждого класса:\n",
            "quality\n",
            "5    681\n",
            "6    638\n",
            "7    199\n",
            "4     53\n",
            "8     18\n",
            "3     10\n",
            "Name: count, dtype: int64\n"
          ]
        }
      ],
      "source": [
        "plt.figure(figsize=(8, 6))\n",
        "sns.countplot(x='quality', data=data)\n",
        "plt.title(\"Распределение целевого признака 'quality'\")\n",
        "plt.xlabel(\"Quality\")\n",
        "plt.ylabel(\"Количество\")\n",
        "plt.show()\n",
        "print(\"Количество представителей каждого класса:\")\n",
        "print(data['quality'].value_counts())\n",
        "X = data.drop(columns=['quality'])\n",
        "y = data['quality']"
      ]
    },
    {
      "cell_type": "code",
      "execution_count": 35,
      "metadata": {
        "id": "Rg56Q6vZcO76"
      },
      "outputs": [],
      "source": []
    },
    {
      "cell_type": "code",
      "execution_count": 35,
      "metadata": {
        "id": "TDRzEOnxcO76"
      },
      "outputs": [],
      "source": []
    },
    {
      "cell_type": "code",
      "execution_count": 35,
      "metadata": {
        "id": "lxtXdCM_cO76"
      },
      "outputs": [],
      "source": []
    },
    {
      "cell_type": "code",
      "execution_count": 35,
      "metadata": {
        "id": "XKoYqLLMcO77"
      },
      "outputs": [],
      "source": []
    },
    {
      "cell_type": "markdown",
      "metadata": {
        "id": "bwOIt5CScO77"
      },
      "source": [
        "### 1.2 Сравнение моделей (4 балла)\n",
        "\n",
        "Задача классификации. Все признаки уже числовые. Значит можно пробовать просто все модели и выбрать лучшую. Так и поступим, сделайте кросс валидацию на 5 фолдах, используя `sklearn.model_selection.KFold` как аргумент у `cross_val_score`. Метрика качества будет `accuracy`.\n",
        "\n",
        "Алгоритмы для тестирования:\n",
        "- KNeighborsClassifier с 10 соседями\n",
        "- KNeighborsClassifier с 10 соседями и масштабированием StandartScaler\n",
        "- RidgeClassifier\n",
        "- DecisionTreeClassifier\n",
        "- BaggingClassifier c 100 деревьев\n",
        "- BaggingClassifier с 100 деревьев и каждое дерево обучается только по половине случайно выбранных признаков (см аргументы)\n",
        "- RandomForestClassifier c 100 деревьев\n",
        "\n",
        "Выведите среднее значение метрики качества для каждого из классификаторов.\n",
        "\n",
        "**hint**: каждый следующий алгоритм, будет показывать качество лучше, чем предыдущий. Если у вас не так - то что-то вы делаете неправильно. Везде зафиксируйте random_state=42."
      ]
    },
    {
      "cell_type": "code",
      "execution_count": 36,
      "metadata": {
        "id": "LEoyTjQUcO77",
        "outputId": "3b848244-f923-4b05-d19f-ebd1ef723d89",
        "colab": {
          "base_uri": "https://localhost:8080/"
        }
      },
      "outputs": [
        {
          "output_type": "stream",
          "name": "stdout",
          "text": [
            "KNeighborsClassifier с 10 соседями: 0.512220, Std: 0.026461\n"
          ]
        }
      ],
      "source": [
        "from sklearn.model_selection import KFold, cross_val_score\n",
        "from sklearn.neighbors import KNeighborsClassifier\n",
        "\n",
        "cv = KFold(n_splits=5, random_state=42, shuffle=True)\n",
        "knn = KNeighborsClassifier(n_neighbors=10)\n",
        "scores_knn = cross_val_score(knn, X, y, cv=cv, scoring='accuracy')\n",
        "print(\"KNeighborsClassifier с 10 соседями: {:.6f}, Std: {:.6f}\".format(scores_knn.mean(), scores_knn.std()))"
      ]
    },
    {
      "cell_type": "code",
      "execution_count": 37,
      "metadata": {
        "id": "QeBls5_AcO77",
        "outputId": "f7db8353-e986-4703-adcc-b5a92bf2cad3",
        "colab": {
          "base_uri": "https://localhost:8080/"
        }
      },
      "outputs": [
        {
          "output_type": "stream",
          "name": "stdout",
          "text": [
            "KNeighborsClassifier с 10 соседями и масштабированием StandartScaler: 0.581634, Std: 0.019192\n"
          ]
        }
      ],
      "source": [
        "pipeline_knn_scaled = make_pipeline(StandardScaler(), KNeighborsClassifier(n_neighbors=10))\n",
        "scores_knn_scaled = cross_val_score(pipeline_knn_scaled, X, y, cv=cv, scoring='accuracy')\n",
        "print(\"KNeighborsClassifier с 10 соседями и масштабированием StandartScaler: {:.6f}, Std: {:.6f}\".format(scores_knn_scaled.mean(), scores_knn_scaled.std()))"
      ]
    },
    {
      "cell_type": "code",
      "execution_count": 38,
      "metadata": {
        "id": "utRwQHf-cO77",
        "outputId": "bf46ac84-98db-4878-a006-1fad5e4d831b",
        "colab": {
          "base_uri": "https://localhost:8080/"
        }
      },
      "outputs": [
        {
          "output_type": "stream",
          "name": "stdout",
          "text": [
            "RidgeClassifier: 0.583538, Std: 0.039966\n"
          ]
        }
      ],
      "source": [
        "ridge = RidgeClassifier(random_state=42)\n",
        "scores_ridge = cross_val_score(ridge, X, y, cv=cv, scoring='accuracy')\n",
        "print(\"RidgeClassifier: {:.6f}, Std: {:.6f}\".format(scores_ridge.mean(), scores_ridge.std()))"
      ]
    },
    {
      "cell_type": "code",
      "execution_count": 39,
      "metadata": {
        "id": "lR2hLwoXcO77",
        "outputId": "9404864f-fb61-44a6-b179-1a1194efb10f",
        "colab": {
          "base_uri": "https://localhost:8080/"
        }
      },
      "outputs": [
        {
          "output_type": "stream",
          "name": "stdout",
          "text": [
            "DecisionTreeClassifier: 0.617896, Std: 0.033631\n"
          ]
        }
      ],
      "source": [
        "decision_tree = DecisionTreeClassifier(random_state=42)\n",
        "scores_decision_tree = cross_val_score(decision_tree, X, y, cv=cv, scoring='accuracy')\n",
        "print(\"DecisionTreeClassifier: {:.6f}, Std: {:.6f}\".format(scores_decision_tree.mean(), scores_decision_tree.std()))"
      ]
    },
    {
      "cell_type": "code",
      "execution_count": 40,
      "metadata": {
        "id": "w1QOxnPUcO78",
        "outputId": "ecceb029-8d8c-4abc-e179-619e7244589c",
        "colab": {
          "base_uri": "https://localhost:8080/"
        }
      },
      "outputs": [
        {
          "output_type": "stream",
          "name": "stdout",
          "text": [
            "BaggingClassifier c 100 деревьев: 0.697966, Std: 0.035447\n"
          ]
        }
      ],
      "source": [
        "bagging = BaggingClassifier(estimator=DecisionTreeClassifier(random_state=42), n_estimators=100, random_state=42)\n",
        "scores_bagging = cross_val_score(bagging, X, y, cv=cv, scoring='accuracy')\n",
        "print(\"BaggingClassifier c 100 деревьев: {:.6f}, Std: {:.6f}\".format(scores_bagging.mean(), scores_bagging.std()))"
      ]
    },
    {
      "cell_type": "code",
      "execution_count": 41,
      "metadata": {
        "id": "VkbGdQSJcO78",
        "outputId": "f694e41a-3007-42b7-9667-cafcaba358bf",
        "colab": {
          "base_uri": "https://localhost:8080/"
        }
      },
      "outputs": [
        {
          "output_type": "stream",
          "name": "stdout",
          "text": [
            "BaggingClassifier с 100 деревьев и каждое дерево обучается только по половине случайно выбранных признаков: 0.694835, Std: 0.022539\n"
          ]
        }
      ],
      "source": [
        "bagging_half_features = BaggingClassifier(estimator=DecisionTreeClassifier(random_state=42), n_estimators=100, max_features=0.5, random_state=42)\n",
        "scores_bagging_half_features = cross_val_score(bagging_half_features, X, y, cv=cv, scoring='accuracy')\n",
        "print(\"BaggingClassifier с 100 деревьев и каждое дерево обучается только по половине случайно выбранных признаков: {:.6f}, Std: {:.6f}\".format(scores_bagging_half_features.mean(), scores_bagging_half_features.std()))"
      ]
    },
    {
      "cell_type": "code",
      "execution_count": 42,
      "metadata": {
        "id": "D5fvACrmcO78",
        "outputId": "e9e31d18-ba3d-49a9-e63c-4ba7e68be14b",
        "colab": {
          "base_uri": "https://localhost:8080/"
        }
      },
      "outputs": [
        {
          "output_type": "stream",
          "name": "stdout",
          "text": [
            "RandomForestClassifier c 100 деревьев: 0.701714, Std: 0.028722\n"
          ]
        }
      ],
      "source": [
        "random_forest = RandomForestClassifier(n_estimators=100, random_state=42)\n",
        "scores_random_forest = cross_val_score(random_forest, X, y, cv=cv, scoring='accuracy')\n",
        "print(\"RandomForestClassifier c 100 деревьев: {:.6f}, Std: {:.6f}\".format(scores_random_forest.mean(), scores_random_forest.std()))"
      ]
    },
    {
      "cell_type": "code",
      "execution_count": 42,
      "metadata": {
        "id": "NkeYXCiWcO78"
      },
      "outputs": [],
      "source": []
    },
    {
      "cell_type": "markdown",
      "metadata": {
        "id": "ASILoGU_cO78"
      },
      "source": [
        "### 1.3 Расуждения (8 баллов)\n",
        "\n",
        "Ответьте на вопросы развернуто, можете полистать литературу:\n",
        "\n",
        "- почему наблюдается значимая разница в качестве у KNeighborsClassifier с масштабированием и без: KNeighborsClassifier зависит от масштабов признаков, потому что для его работы используется вычисление расстояний между объектами. Если признаки имеют разные масштабы, признаки с большими значениями могут оказывать более сильное влияние на результат, затмевая признаки с меньшими значениями, что снижает точность модели. Масштабирование помогает каждому признаку вносить равный вклад в расчет расстояний, что улучшает качество классификации.\n",
        "- почему масштабирование не важно для деревьев решений:\n",
        "Деревья решений не зависят от масштаба признаков, поскольку они строят модель, основываясь на пороговых значениях каждого признака. Так как выбор порогов происходит независимо от масштабов признаков, изменение масштаба не влияет на структуру дерева и, соответственно, не сказывается на его эффективности.\n",
        "- почему бэггинг на половине признаков для каждого дерева дал качество предсказания больше, чем на всех? (а он дал!): Бэггинг с использованием случайных подмножеств признаков может улучшить качество предсказаний по нескольким причинам:\n",
        "Снижение корреляции между деревьями: Обучение на разных подмножествах признаков делает деревья менее зависимыми друг от друга, что улучшает общее качество предсказания при агрегации.\n",
        "Снижение переобучения: Использование подмножества признаков помогает избежать переобучения на шумных или нерелевантных признаках, улучшая обобщающую способность модели.\n",
        "Игнорирование нерелевантных признаков: Случайный выбор признаков снижает вероятность того, что модель будет использовать неважные признаки, улучшая точность.\n",
        "Ускорение вычислений: Обучение на меньшем числе признаков сокращает время обучения и повышает эффективность.\n",
        "- у какой модели наибольшей отклонение от среднего качества предсказаний? А почему??"
      ]
    },
    {
      "cell_type": "code",
      "execution_count": 42,
      "metadata": {
        "id": "1KlbPyWUcO78"
      },
      "outputs": [],
      "source": []
    },
    {
      "cell_type": "markdown",
      "metadata": {
        "id": "p5pZZOzpcO78"
      },
      "source": [
        "## 2 Переобучение и Ко\n",
        "\n",
        "В последнем задании вы уже заметили, что случайный лес может вести себя немного нестабильно. В этом задании мы возьмем опять датасет MNIST(простите) и будем его решать деревьями. Почему мы взяли его? Потому что в нем фактически много разных признаков (значения пикселей в пространстве), а деревья строятся делая разбиения по признакам. Обычно на эти разбиения не обращают внимание, так как главное что тюнят - это глубина дереьвев, количество деревьев, а кучу других параметров обходят стороной, так как они \"неясные\". Попробуем прояснить их."
      ]
    },
    {
      "cell_type": "markdown",
      "metadata": {
        "id": "p3dQtwE_cO78"
      },
      "source": [
        "### 2.1 Загрузка датасета (1 балл)\n",
        "\n",
        "Загрузите датасет с помощью функции `sklearn.datasets.load_digits`. В нем будут 64px картинки в векторной форме.\n",
        "\n",
        "Нарисуйте первые 10 цифр в одной ячейке, чтобы было красиво."
      ]
    },
    {
      "cell_type": "code",
      "execution_count": 43,
      "metadata": {
        "id": "9RpMjaptcO78",
        "outputId": "97558f5b-468e-48d9-f9af-00e7989a540c",
        "colab": {
          "base_uri": "https://localhost:8080/",
          "height": 215
        }
      },
      "outputs": [
        {
          "output_type": "display_data",
          "data": {
            "text/plain": [
              "<Figure size 1000x300 with 10 Axes>"
            ],
            "image/png": "[encoded data removed]"
          },
          "metadata": {}
        }
      ],
      "source": [
        "digits = load_digits()\n",
        "plt.figure(figsize=(10, 3))\n",
        "for i in range(10):\n",
        "    plt.subplot(1, 10, i + 1)\n",
        "    plt.imshow(digits.images[i], cmap='gray')\n",
        "    plt.axis('off')\n",
        "plt.suptitle(\"Первые 10 цифр из датасета\")\n",
        "plt.show()"
      ]
    },
    {
      "cell_type": "code",
      "execution_count": 43,
      "metadata": {
        "id": "tt7x9zCycO79"
      },
      "outputs": [],
      "source": []
    },
    {
      "cell_type": "code",
      "execution_count": 43,
      "metadata": {
        "id": "qBiMdlfVcO79"
      },
      "outputs": [],
      "source": []
    },
    {
      "cell_type": "markdown",
      "metadata": {
        "id": "x43ZVovpcO79"
      },
      "source": [
        "### 2.2 Перебор классификаторов (3 балла)\n",
        "\n",
        "В этом задании вам снова придется перебрать несколько классификаторов, но теперь мы обратим внимание на другие гиперпараметры и их влияние на качество классификации, кстати опять `accuracy`.\n",
        "\n",
        "Сделайте кроссвалидацию на 10 фолдах, указав `cv=10` для следующих классификаторов:\n",
        "\n",
        "- DecisionTreeClassifier с параметрами по-умолчанию\n",
        "- BaggingClassifier с 100 деревьвев\n",
        "- BaggingClassifier с 100 деревьев, НО с ограничением на максимальное количество признаков, участвующих при обучении каждого из деревьев в $\\sqrt{N}$, где $N$ - это число признаков.\n",
        "- BaggingClassifier с 100 деревьев, НО с ограничением на количество признаков участвующих в разбиении для каждого из деревьев в $\\sqrt{N}$, где $N$ - это число признаков. Это отличается от предыдущей модели тем, где ограничивается `max_features`. Читайте документацию :trollface:\n",
        "- обычный случайный лес со 100 деревьями"
      ]
    },
    {
      "cell_type": "code",
      "execution_count": 44,
      "metadata": {
        "id": "XsstXYzEcO79",
        "outputId": "1996e4e4-f15c-4990-be28-b1089d4ef25d",
        "colab": {
          "base_uri": "https://localhost:8080/"
        }
      },
      "outputs": [
        {
          "output_type": "stream",
          "name": "stdout",
          "text": [
            "DecisionTreeClassifier с параметрами по-умолчанию: 0.4777830188679245\n"
          ]
        }
      ],
      "source": [
        "decision_tree = DecisionTreeClassifier(random_state=42)\n",
        "scores_decision_tree = cross_val_score(decision_tree, X, y, cv=10, scoring='accuracy')\n",
        "print(\"DecisionTreeClassifier с параметрами по-умолчанию:\", scores_decision_tree.mean())"
      ]
    },
    {
      "cell_type": "code",
      "execution_count": 45,
      "metadata": {
        "id": "ALMR7q_fcO79",
        "outputId": "c98b58d7-e63c-4616-fa02-215e309d7b91",
        "colab": {
          "base_uri": "https://localhost:8080/"
        }
      },
      "outputs": [
        {
          "output_type": "stream",
          "name": "stdout",
          "text": [
            "BaggingClassifier с 100 деревьев: 0.5578301886792453\n"
          ]
        }
      ],
      "source": [
        "bagging = BaggingClassifier(n_estimators=100, random_state=42)\n",
        "scores_bagging = cross_val_score(bagging, X, y, cv=10, scoring='accuracy')\n",
        "print(\"BaggingClassifier с 100 деревьев:\", scores_bagging.mean())"
      ]
    },
    {
      "cell_type": "code",
      "execution_count": 46,
      "metadata": {
        "id": "M8qQgD4ccO79",
        "outputId": "dd35289a-1f4d-4643-f2f6-dc6e4712a10e",
        "colab": {
          "base_uri": "https://localhost:8080/"
        }
      },
      "outputs": [
        {
          "output_type": "stream",
          "name": "stdout",
          "text": [
            "Среднее значение accuracy для BaggingClassifier с 100 деревьями и ограничением на max_features: 0.5603380503144655\n"
          ]
        }
      ],
      "source": [
        "num_features = X.shape[1]\n",
        "bagging_max_features = BaggingClassifier(n_estimators=100, max_features=int(np.sqrt(num_features)), random_state=42)\n",
        "scores_bagging_max_features = cross_val_score(bagging_max_features, X, y, cv=10, scoring='accuracy')\n",
        "print(\"BaggingClassifier с 100 деревьев, НО с ограничением на максимальное количество признаков\", scores_bagging_max_features.mean())"
      ]
    },
    {
      "cell_type": "code",
      "execution_count": 47,
      "metadata": {
        "id": "JLBXv7OIcO79",
        "outputId": "6137b3c6-923e-4940-b546-3043bba762c8",
        "colab": {
          "base_uri": "https://localhost:8080/"
        }
      },
      "outputs": [
        {
          "output_type": "stream",
          "name": "stdout",
          "text": [
            "Среднее значение accuracy для BaggingClassifier с 100 деревьями и ограничением max_features в разбиениях деревьев: 0.5697366352201257\n"
          ]
        }
      ],
      "source": [
        "bagging_split_features = BaggingClassifier(\n",
        "    estimator=DecisionTreeClassifier(max_features=int(np.sqrt(num_features)), random_state=42),\n",
        "    n_estimators=100,\n",
        "    random_state=42\n",
        ")\n",
        "scores_bagging_split_features = cross_val_score(bagging_split_features, X, y, cv=10, scoring='accuracy')\n",
        "print(\"BaggingClassifier с 100 деревьев, НО с ограничением на количество признаков участвующих в разбиении для каждого из деревьев:\", scores_bagging_split_features.mean())"
      ]
    },
    {
      "cell_type": "code",
      "execution_count": 48,
      "metadata": {
        "id": "QA4OXDS6cO79",
        "outputId": "8b6cd019-fc14-433e-bdae-47e1e029d992",
        "colab": {
          "base_uri": "https://localhost:8080/"
        }
      },
      "outputs": [
        {
          "output_type": "stream",
          "name": "stdout",
          "text": [
            "Среднее значение accuracy для RandomForestClassifier с 100 деревьями: 0.5734905660377358\n"
          ]
        }
      ],
      "source": [
        "random_forest = RandomForestClassifier(n_estimators=100, random_state=42)\n",
        "scores_random_forest = cross_val_score(random_forest, X, y, cv=10, scoring='accuracy')\n",
        "print(\"обычный случайный лес со 100 деревьями:\", scores_random_forest.mean())"
      ]
    },
    {
      "cell_type": "markdown",
      "metadata": {
        "id": "vshkS1wpcO79"
      },
      "source": [
        "### 2.3 В чём разница? (3 балла)\n",
        "\n",
        "Ответье на вопрос:\n",
        "\n",
        "Странно то как? Почему ограничение на количество признаков в разбиении дерева и ограничение в количестве признаков для построения каждого дерева в BaggingClasifier дало СОВСЕМ разный результат в качестве предсказания? В чем магия?\n",
        "- Ограничение числа признаков на уровне разбиений (в каждом узле) увеличивает случайность и разнообразие внутри каждого дерева, что способствует улучшению обобщающих способностей ансамбля. В то же время ограничение числа признаков для каждого дерева уменьшает количество доступной информации, что снижает качество, так как деревья становятся менее информативными."
      ]
    },
    {
      "cell_type": "code",
      "execution_count": 48,
      "metadata": {
        "id": "gdkhhlUAcO79"
      },
      "outputs": [],
      "source": []
    },
    {
      "cell_type": "markdown",
      "metadata": {
        "id": "c7oqmdVScO7-"
      },
      "source": [
        "### 2.4 Количество деревьев (2 балла)\n",
        "\n",
        "Сделайте перебор количества деревьев для `RandomForestClassifier`. Сохраните качества кросс валидации на 10 фолдах для `[1,5,10,15,50,100,150,200,300]` количества деревьев. Нарисуйте график, где по оси x - количество деревьев, а по оси y - качество. При каком количестве деревьев получается самое хорошее качество?"
      ]
    },
    {
      "cell_type": "code",
      "execution_count": 49,
      "metadata": {
        "id": "SH3imHl4cO7-",
        "outputId": "eaa1f241-c32f-4c4b-fd40-9295d4a1fbeb",
        "colab": {
          "base_uri": "https://localhost:8080/",
          "height": 581
        }
      },
      "outputs": [
        {
          "output_type": "display_data",
          "data": {
            "text/plain": [
              "<Figure size 1000x600 with 1 Axes>"
            ],
            "image/png": "[encoded data removed]"
          },
          "metadata": {}
        },
        {
          "output_type": "stream",
          "name": "stdout",
          "text": [
            "Оптимальное количество деревьев: 200, при котором accuracy = 0.5778694968553459\n"
          ]
        }
      ],
      "source": [
        "n_estimators_options = [1, 5, 10, 15, 50, 100, 150, 200, 300]\n",
        "mean_accuracies = []\n",
        "for n in n_estimators_options:\n",
        "    rf = RandomForestClassifier(n_estimators=n, random_state=42)\n",
        "    scores = cross_val_score(rf, X, y, cv=10, scoring='accuracy')\n",
        "    mean_accuracies.append(scores.mean())\n",
        "\n",
        "plt.figure(figsize=(10, 6))\n",
        "plt.plot(n_estimators_options, mean_accuracies, marker='o')\n",
        "plt.xlabel(\"Количество деревьев\")\n",
        "plt.ylabel(\"Среднее значение accuracy\")\n",
        "plt.title(\"Зависимость качества от количества деревьев в RandomForestClassifier\")\n",
        "plt.grid(True)\n",
        "plt.show()\n",
        "\n",
        "best_n_estimators = n_estimators_options[np.argmax(mean_accuracies)]\n",
        "best_accuracy = max(mean_accuracies)\n",
        "print(f\"Оптимальное количество деревьев: {best_n_estimators}, при котором accuracy = {best_accuracy}\")"
      ]
    },
    {
      "cell_type": "code",
      "execution_count": 48,
      "metadata": {
        "id": "b-_Bp7yocO7-"
      },
      "outputs": [],
      "source": []
    },
    {
      "cell_type": "markdown",
      "metadata": {
        "id": "TW62gCnZcO7-"
      },
      "source": [
        "### 2.5 Количество признаков  (2 балла)\n",
        "\n",
        "Переберите теперь максимальное количество признаков для `RandomForestClassifier` на 100 деревьях, от 1 до 64 с шагом 5. Постройте график качества по кроссвалидации на 10 фолдах."
      ]
    },
    {
      "cell_type": "code",
      "execution_count": 50,
      "metadata": {
        "id": "M-yt7waucO7-",
        "outputId": "ff005275-8be9-4a72-a05a-560308a23165",
        "colab": {
          "base_uri": "https://localhost:8080/",
          "height": 564
        }
      },
      "outputs": [
        {
          "output_type": "display_data",
          "data": {
            "text/plain": [
              "<Figure size 800x600 with 1 Axes>"
            ],
            "image/png": "[encoded data removed]"
          },
          "metadata": {}
        }
      ],
      "source": [
        "max_features_range = np.arange(1, 65, 5)\n",
        "mean_accuracies = []\n",
        "\n",
        "for max_features in max_features_range:\n",
        "    rf = RandomForestClassifier(n_estimators=100, max_features=max_features, random_state=42)\n",
        "\n",
        "    scores = cross_val_score(rf, X, y, cv=10, scoring='accuracy')\n",
        "\n",
        "    mean_accuracies.append(scores.mean())\n",
        "\n",
        "plt.figure(figsize=(8, 6))\n",
        "plt.plot(max_features_range, mean_accuracies, marker='o', linestyle='-', color='b')\n",
        "plt.title('Точность модели RandomForest по k признакам (max_features)')\n",
        "plt.xlabel('Количество признаков для разбиений (max_features)')\n",
        "plt.ylabel('Средняя точность (accuracy)')\n",
        "plt.grid(True)\n",
        "plt.show()\n"
      ]
    },
    {
      "cell_type": "markdown",
      "metadata": {
        "id": "dCGxPIK6cO8C"
      },
      "source": [
        "### 2.5 Вопросы по RandomForest (8 баллов)\n",
        "\n",
        "Ответьте на вопросы:\n",
        "\n",
        "- Что происходит с ростом числа деревьев у случайного леса. Можно ли просто всегда брать 5000 деревьев и быть счастливым?\n",
        "Рост числа деревьев в случайном лесе обычно повышает стабильность и точность модели, так как ансамбль становится более устойчивым к случайным колебаниям в данных. Однако, после определенного количества деревьев, преимущество от добавления новых деревьев уменьшается. Это связано с тем, что увеличивая количество деревьев после определенного числа, вы просто тратите вычислительные ресурсы, не улучшая существенно результат.\n",
        "- Как зависит качество предсказания в дереве в зависимости от max_features?\n",
        "Качество предсказания в дереве зависит от параметра max_features, который определяет, сколько признаков доступно для выбора на каждом разбиении в дереве. Когда количество признаков, доступных для разбиения, ограничено, деревья становятся более случайными, что увеличивает разнообразие среди деревьев в ансамбле и способствует лучшему обобщению модели. Однако слишком малое значение max_features может привести к тому, что дерево будет слишком ограничено в своем обучении и не сможет извлечь достаточно информации из данных. С другой стороны, если количество признаков для разбиений слишком велико, деревья становятся менее случайными, что может привести к их избыточной адаптации к данным и снижению способности модели обобщать.\n",
        "- Почему качество зависит от max_features?\n",
        "Качество модели в случайном лесе зависит от параметра max_features, потому что этот параметр контролирует количество признаков, которые используются для разбиений в каждом дереве. Он влияет на разнообразие деревьев и их способность обобщать данные.\n",
        "- Как глубина деревьев влияет на качество случайного леса?\n",
        "Очень глубокие деревья могут переобучиться, так как они слишком точно подстраиваются под обучающие данные, включая шум и случайные вариации. В то время как слишком поверхностные деревья не будут способны выявить важные закономерности и подойдут к обучению слишком абстрактно, что приведет к недообучению. Таким образом, важно настроить глубину деревьев так, чтобы она была достаточно большой для того, чтобы модель могла захватить важные зависимости, но при этом не слишком большой, чтобы избежать переобучения."
      ]
    },
    {
      "cell_type": "markdown",
      "metadata": {
        "id": "KOvFLadwcO8D"
      },
      "source": []
    },
    {
      "cell_type": "markdown",
      "metadata": {
        "id": "ke6ZrRWccO8D"
      },
      "source": [
        "![](https://habrastorage.org/web/ad8/366/a44/ad8366a4469346c6b2e1306495b05d1a.jpg)"
      ]
    }
  ],
  "metadata": {
    "kernelspec": {
      "display_name": "Python 3 (ipykernel)",
      "language": "python",
      "name": "python3"
    },
    "language_info": {
      "codemirror_mode": {
        "name": "ipython",
        "version": 3
      },
      "file_extension": ".py",
      "mimetype": "text/x-python",
      "name": "python",
      "nbconvert_exporter": "python",
      "pygments_lexer": "ipython3",
      "version": "3.10.1"
    },
    "colab": {
      "provenance": []
    }
  },
  "nbformat": 4,
  "nbformat_minor": 0
}