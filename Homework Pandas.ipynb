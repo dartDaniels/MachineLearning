{
  "cells": [
    {
      "cell_type": "markdown",
      "metadata": {
        "id": "UVenk7EfqMEa"
      },
      "source": [
        "## Домашняя работа. Pandas\n",
        "\n",
        "1. Скачайте этот ноутбук к себе.\n",
        "2. Заполните пропущенные ячейки, отвечая на заданные вопросы. Там должен быть код! (если не сказано обратное)\n",
        "3. Сохраните результат в своём гитхаб репозитории.\n",
        "\n",
        "#### Полезная литература\n",
        "\n",
        "- http://pandas.pydata.org/pandas-docs/stable/10min.html\n",
        "- https://pandas.pydata.org/pandas-docs/stable/indexing.html\n",
        "- https://pandas.pydata.org/pandas-docs/stable/missing_data.html"
      ]
    },
    {
      "cell_type": "markdown",
      "metadata": {
        "id": "PVp4smQwqMEc"
      },
      "source": [
        "В этом задании мы с вами рассмотрим датасет [Adult Data Set](https://archive.ics.uci.edu/ml/datasets/Adult).\n",
        "Основывается он на данных переписи населения 1994 года в США.\n",
        "\n",
        "Расшифровка содержимого колонок:\n",
        "\n",
        "- age: continuous.\n",
        "- workclass: Private, Self-emp-not-inc, Self-emp-inc, Federal-gov, Local-gov, State-gov, Without-pay, Never-worked.\n",
        "- fnlwgt: continuous. sampling weight, more here: SIPP Weighting.\n",
        "- education: Bachelors, Some-college, 11th, HS-grad, Prof-school, Assoc-acdm, Assoc-voc, 9th, 7th-8th, 12th, Masters, 1st-4th, 10th, Doctorate, 5th-6th, Preschool.\n",
        "- education-num: continuous.\n",
        "- marital-status: Married-civ-spouse, Divorced, Never-married, Separated, Widowed, Married-spouse-absent, Married-AF-spouse.\n",
        "- occupation: Tech-support, Craft-repair, Other-service, Sales, Exec-managerial, Prof-specialty, Handlers-cleaners, Machine-op-inspct, Adm-clerical, Farming-fishing, Transport-moving, Priv-house-serv, Protective-serv, Armed-Forces.\n",
        "- relationship: Wife, Own-child, Husband, Not-in-family, Other-relative, Unmarried.\n",
        "- race: White, Asian-Pac-Islander, Amer-Indian-Eskimo, Other, Black.\n",
        "- sex: Female, Male.\n",
        "- capital-gain: continuous. Income from investment sources, apart from wages/salary.\n",
        "- capital-loss: continuous. Losses from investment sources, apart from wages/salary.\n",
        "- hours-per-week: continuous.\n",
        "- native-country: United-States, Cambodia, England, Puerto-Rico, Canada, Germany, Outlying-US(Guam-USVI-etc), India, Japan, Greece, South, China, Cuba, Iran, Honduras, Philippines, Italy, Poland, Jamaica, Vietnam, Mexico, Portugal, Ireland, France, Dominican-Republic, Laos, Ecuador, Taiwan, Haiti, Columbia, Hungary, Guatemala, Nicaragua, Scotland, Thailand, Yugoslavia, El-Salvador, Trinadad&Tobago, Peru, Hong, Holand-Netherlands.\n",
        "- income: Target feature. Binary.\tIncome >50K, <=50K."
      ]
    },
    {
      "cell_type": "code",
      "execution_count": null,
      "metadata": {
        "colab": {
          "base_uri": "https://localhost:8080/",
          "height": 35
        },
        "id": "4-KGkSTEqMEd",
        "outputId": "ac420f06-c9da-4474-f898-87b696e92ad1"
      },
      "outputs": [
        {
          "output_type": "execute_result",
          "data": {
            "text/plain": [
              "'2.2.2'"
            ],
            "application/vnd.google.colaboratory.intrinsic+json": {
              "type": "string"
            }
          },
          "metadata": {},
          "execution_count": 4
        }
      ],
      "source": [
        "import pandas as pd\n",
        "pd.__version__ # 1.4.1"
      ]
    },
    {
      "cell_type": "code",
      "execution_count": null,
      "metadata": {
        "colab": {
          "base_uri": "https://localhost:8080/",
          "height": 206
        },
        "id": "0TD6SVU4qMEf",
        "outputId": "dc536fd5-5f07-4c5f-e1b4-80e803563fba"
      },
      "outputs": [
        {
          "output_type": "execute_result",
          "data": {
            "text/plain": [
              "   age         workclass  fnlwgt  education  education-num  \\\n",
              "0   39         State-gov   77516  Bachelors             13   \n",
              "1   50  Self-emp-not-inc   83311  Bachelors             13   \n",
              "2   38           Private  215646    HS-grad              9   \n",
              "3   53           Private  234721       11th              7   \n",
              "4   28           Private  338409  Bachelors             13   \n",
              "\n",
              "       marital-status         occupation   relationship   race     sex  \\\n",
              "0       Never-married       Adm-clerical  Not-in-family  White    Male   \n",
              "1  Married-civ-spouse    Exec-managerial        Husband  White    Male   \n",
              "2            Divorced  Handlers-cleaners  Not-in-family  White    Male   \n",
              "3  Married-civ-spouse  Handlers-cleaners        Husband  Black    Male   \n",
              "4  Married-civ-spouse     Prof-specialty           Wife  Black  Female   \n",
              "\n",
              "   capital-gain  capital-loss  hours-per-week native-country income  \n",
              "0          2174             0              40  United-States  <=50K  \n",
              "1             0             0              13  United-States  <=50K  \n",
              "2             0             0              40  United-States  <=50K  \n",
              "3             0             0              40  United-States  <=50K  \n",
              "4             0             0              40           Cuba  <=50K  "
            ],
            "text/html": [
              "\n",
              "  <div id=\"df-60efa870-2959-4ef0-a7b0-9240cb6f19fe\" class=\"colab-df-container\">\n",
              "    <div>\n",
              "<style scoped>\n",
              "    .dataframe tbody tr th:only-of-type {\n",
              "        vertical-align: middle;\n",
              "    }\n",
              "\n",
              "    .dataframe tbody tr th {\n",
              "        vertical-align: top;\n",
              "    }\n",
              "\n",
              "    .dataframe thead th {\n",
              "        text-align: right;\n",
              "    }\n",
              "</style>\n",
              "<table border=\"1\" class=\"dataframe\">\n",
              "  <thead>\n",
              "    <tr style=\"text-align: right;\">\n",
              "      <th></th>\n",
              "      <th>age</th>\n",
              "      <th>workclass</th>\n",
              "      <th>fnlwgt</th>\n",
              "      <th>education</th>\n",
              "      <th>education-num</th>\n",
              "      <th>marital-status</th>\n",
              "      <th>occupation</th>\n",
              "      <th>relationship</th>\n",
              "      <th>race</th>\n",
              "      <th>sex</th>\n",
              "      <th>capital-gain</th>\n",
              "      <th>capital-loss</th>\n",
              "      <th>hours-per-week</th>\n",
              "      <th>native-country</th>\n",
              "      <th>income</th>\n",
              "    </tr>\n",
              "  </thead>\n",
              "  <tbody>\n",
              "    <tr>\n",
              "      <th>0</th>\n",
              "      <td>39</td>\n",
              "      <td>State-gov</td>\n",
              "      <td>77516</td>\n",
              "      <td>Bachelors</td>\n",
              "      <td>13</td>\n",
              "      <td>Never-married</td>\n",
              "      <td>Adm-clerical</td>\n",
              "      <td>Not-in-family</td>\n",
              "      <td>White</td>\n",
              "      <td>Male</td>\n",
              "      <td>2174</td>\n",
              "      <td>0</td>\n",
              "      <td>40</td>\n",
              "      <td>United-States</td>\n",
              "      <td>&lt;=50K</td>\n",
              "    </tr>\n",
              "    <tr>\n",
              "      <th>1</th>\n",
              "      <td>50</td>\n",
              "      <td>Self-emp-not-inc</td>\n",
              "      <td>83311</td>\n",
              "      <td>Bachelors</td>\n",
              "      <td>13</td>\n",
              "      <td>Married-civ-spouse</td>\n",
              "      <td>Exec-managerial</td>\n",
              "      <td>Husband</td>\n",
              "      <td>White</td>\n",
              "      <td>Male</td>\n",
              "      <td>0</td>\n",
              "      <td>0</td>\n",
              "      <td>13</td>\n",
              "      <td>United-States</td>\n",
              "      <td>&lt;=50K</td>\n",
              "    </tr>\n",
              "    <tr>\n",
              "      <th>2</th>\n",
              "      <td>38</td>\n",
              "      <td>Private</td>\n",
              "      <td>215646</td>\n",
              "      <td>HS-grad</td>\n",
              "      <td>9</td>\n",
              "      <td>Divorced</td>\n",
              "      <td>Handlers-cleaners</td>\n",
              "      <td>Not-in-family</td>\n",
              "      <td>White</td>\n",
              "      <td>Male</td>\n",
              "      <td>0</td>\n",
              "      <td>0</td>\n",
              "      <td>40</td>\n",
              "      <td>United-States</td>\n",
              "      <td>&lt;=50K</td>\n",
              "    </tr>\n",
              "    <tr>\n",
              "      <th>3</th>\n",
              "      <td>53</td>\n",
              "      <td>Private</td>\n",
              "      <td>234721</td>\n",
              "      <td>11th</td>\n",
              "      <td>7</td>\n",
              "      <td>Married-civ-spouse</td>\n",
              "      <td>Handlers-cleaners</td>\n",
              "      <td>Husband</td>\n",
              "      <td>Black</td>\n",
              "      <td>Male</td>\n",
              "      <td>0</td>\n",
              "      <td>0</td>\n",
              "      <td>40</td>\n",
              "      <td>United-States</td>\n",
              "      <td>&lt;=50K</td>\n",
              "    </tr>\n",
              "    <tr>\n",
              "      <th>4</th>\n",
              "      <td>28</td>\n",
              "      <td>Private</td>\n",
              "      <td>338409</td>\n",
              "      <td>Bachelors</td>\n",
              "      <td>13</td>\n",
              "      <td>Married-civ-spouse</td>\n",
              "      <td>Prof-specialty</td>\n",
              "      <td>Wife</td>\n",
              "      <td>Black</td>\n",
              "      <td>Female</td>\n",
              "      <td>0</td>\n",
              "      <td>0</td>\n",
              "      <td>40</td>\n",
              "      <td>Cuba</td>\n",
              "      <td>&lt;=50K</td>\n",
              "    </tr>\n",
              "  </tbody>\n",
              "</table>\n",
              "</div>\n",
              "    <div class=\"colab-df-buttons\">\n",
              "\n",
              "  <div class=\"colab-df-container\">\n",
              "    <button class=\"colab-df-convert\" onclick=\"convertToInteractive('df-60efa870-2959-4ef0-a7b0-9240cb6f19fe')\"\n",
              "            title=\"Convert this dataframe to an interactive table.\"\n",
              "            style=\"display:none;\">\n",
              "\n",
              "  <svg xmlns=\"http://www.w3.org/2000/svg\" height=\"24px\" viewBox=\"0 -960 960 960\">\n",
              "    <path d=\"M120-120v-720h720v720H120Zm60-500h600v-160H180v160Zm220 220h160v-160H400v160Zm0 220h160v-160H400v160ZM180-400h160v-160H180v160Zm440 0h160v-160H620v160ZM180-180h160v-160H180v160Zm440 0h160v-160H620v160Z\"/>\n",
              "  </svg>\n",
              "    </button>\n",
              "\n",
              "  <style>\n",
              "    .colab-df-container {\n",
              "      display:flex;\n",
              "      gap: 12px;\n",
              "    }\n",
              "\n",
              "    .colab-df-convert {\n",
              "      background-color: #E8F0FE;\n",
              "      border: none;\n",
              "      border-radius: 50%;\n",
              "      cursor: pointer;\n",
              "      display: none;\n",
              "      fill: #1967D2;\n",
              "      height: 32px;\n",
              "      padding: 0 0 0 0;\n",
              "      width: 32px;\n",
              "    }\n",
              "\n",
              "    .colab-df-convert:hover {\n",
              "      background-color: #E2EBFA;\n",
              "      box-shadow: 0px 1px 2px rgba(60, 64, 67, 0.3), 0px 1px 3px 1px rgba(60, 64, 67, 0.15);\n",
              "      fill: #174EA6;\n",
              "    }\n",
              "\n",
              "    .colab-df-buttons div {\n",
              "      margin-bottom: 4px;\n",
              "    }\n",
              "\n",
              "    [theme=dark] .colab-df-convert {\n",
              "      background-color: #3B4455;\n",
              "      fill: #D2E3FC;\n",
              "    }\n",
              "\n",
              "    [theme=dark] .colab-df-convert:hover {\n",
              "      background-color: #434B5C;\n",
              "      box-shadow: 0px 1px 3px 1px rgba(0, 0, 0, 0.15);\n",
              "      filter: drop-shadow(0px 1px 2px rgba(0, 0, 0, 0.3));\n",
              "      fill: #FFFFFF;\n",
              "    }\n",
              "  </style>\n",
              "\n",
              "    <script>\n",
              "      const buttonEl =\n",
              "        document.querySelector('#df-60efa870-2959-4ef0-a7b0-9240cb6f19fe button.colab-df-convert');\n",
              "      buttonEl.style.display =\n",
              "        google.colab.kernel.accessAllowed ? 'block' : 'none';\n",
              "\n",
              "      async function convertToInteractive(key) {\n",
              "        const element = document.querySelector('#df-60efa870-2959-4ef0-a7b0-9240cb6f19fe');\n",
              "        const dataTable =\n",
              "          await google.colab.kernel.invokeFunction('convertToInteractive',\n",
              "                                                    [key], {});\n",
              "        if (!dataTable) return;\n",
              "\n",
              "        const docLinkHtml = 'Like what you see? Visit the ' +\n",
              "          '<a target=\"_blank\" href=https://colab.research.google.com/notebooks/data_table.ipynb>data table notebook</a>'\n",
              "          + ' to learn more about interactive tables.';\n",
              "        element.innerHTML = '';\n",
              "        dataTable['output_type'] = 'display_data';\n",
              "        await google.colab.output.renderOutput(dataTable, element);\n",
              "        const docLink = document.createElement('div');\n",
              "        docLink.innerHTML = docLinkHtml;\n",
              "        element.appendChild(docLink);\n",
              "      }\n",
              "    </script>\n",
              "  </div>\n",
              "\n",
              "\n",
              "<div id=\"df-2a234e9f-afb3-492c-87ca-f456f9c9b7f4\">\n",
              "  <button class=\"colab-df-quickchart\" onclick=\"quickchart('df-2a234e9f-afb3-492c-87ca-f456f9c9b7f4')\"\n",
              "            title=\"Suggest charts\"\n",
              "            style=\"display:none;\">\n",
              "\n",
              "<svg xmlns=\"http://www.w3.org/2000/svg\" height=\"24px\"viewBox=\"0 0 24 24\"\n",
              "     width=\"24px\">\n",
              "    <g>\n",
              "        <path d=\"M19 3H5c-1.1 0-2 .9-2 2v14c0 1.1.9 2 2 2h14c1.1 0 2-.9 2-2V5c0-1.1-.9-2-2-2zM9 17H7v-7h2v7zm4 0h-2V7h2v10zm4 0h-2v-4h2v4z\"/>\n",
              "    </g>\n",
              "</svg>\n",
              "  </button>\n",
              "\n",
              "<style>\n",
              "  .colab-df-quickchart {\n",
              "      --bg-color: #E8F0FE;\n",
              "      --fill-color: #1967D2;\n",
              "      --hover-bg-color: #E2EBFA;\n",
              "      --hover-fill-color: #174EA6;\n",
              "      --disabled-fill-color: #AAA;\n",
              "      --disabled-bg-color: #DDD;\n",
              "  }\n",
              "\n",
              "  [theme=dark] .colab-df-quickchart {\n",
              "      --bg-color: #3B4455;\n",
              "      --fill-color: #D2E3FC;\n",
              "      --hover-bg-color: #434B5C;\n",
              "      --hover-fill-color: #FFFFFF;\n",
              "      --disabled-bg-color: #3B4455;\n",
              "      --disabled-fill-color: #666;\n",
              "  }\n",
              "\n",
              "  .colab-df-quickchart {\n",
              "    background-color: var(--bg-color);\n",
              "    border: none;\n",
              "    border-radius: 50%;\n",
              "    cursor: pointer;\n",
              "    display: none;\n",
              "    fill: var(--fill-color);\n",
              "    height: 32px;\n",
              "    padding: 0;\n",
              "    width: 32px;\n",
              "  }\n",
              "\n",
              "  .colab-df-quickchart:hover {\n",
              "    background-color: var(--hover-bg-color);\n",
              "    box-shadow: 0 1px 2px rgba(60, 64, 67, 0.3), 0 1px 3px 1px rgba(60, 64, 67, 0.15);\n",
              "    fill: var(--button-hover-fill-color);\n",
              "  }\n",
              "\n",
              "  .colab-df-quickchart-complete:disabled,\n",
              "  .colab-df-quickchart-complete:disabled:hover {\n",
              "    background-color: var(--disabled-bg-color);\n",
              "    fill: var(--disabled-fill-color);\n",
              "    box-shadow: none;\n",
              "  }\n",
              "\n",
              "  .colab-df-spinner {\n",
              "    border: 2px solid var(--fill-color);\n",
              "    border-color: transparent;\n",
              "    border-bottom-color: var(--fill-color);\n",
              "    animation:\n",
              "      spin 1s steps(1) infinite;\n",
              "  }\n",
              "\n",
              "  @keyframes spin {\n",
              "    0% {\n",
              "      border-color: transparent;\n",
              "      border-bottom-color: var(--fill-color);\n",
              "      border-left-color: var(--fill-color);\n",
              "    }\n",
              "    20% {\n",
              "      border-color: transparent;\n",
              "      border-left-color: var(--fill-color);\n",
              "      border-top-color: var(--fill-color);\n",
              "    }\n",
              "    30% {\n",
              "      border-color: transparent;\n",
              "      border-left-color: var(--fill-color);\n",
              "      border-top-color: var(--fill-color);\n",
              "      border-right-color: var(--fill-color);\n",
              "    }\n",
              "    40% {\n",
              "      border-color: transparent;\n",
              "      border-right-color: var(--fill-color);\n",
              "      border-top-color: var(--fill-color);\n",
              "    }\n",
              "    60% {\n",
              "      border-color: transparent;\n",
              "      border-right-color: var(--fill-color);\n",
              "    }\n",
              "    80% {\n",
              "      border-color: transparent;\n",
              "      border-right-color: var(--fill-color);\n",
              "      border-bottom-color: var(--fill-color);\n",
              "    }\n",
              "    90% {\n",
              "      border-color: transparent;\n",
              "      border-bottom-color: var(--fill-color);\n",
              "    }\n",
              "  }\n",
              "</style>\n",
              "\n",
              "  <script>\n",
              "    async function quickchart(key) {\n",
              "      const quickchartButtonEl =\n",
              "        document.querySelector('#' + key + ' button');\n",
              "      quickchartButtonEl.disabled = true;  // To prevent multiple clicks.\n",
              "      quickchartButtonEl.classList.add('colab-df-spinner');\n",
              "      try {\n",
              "        const charts = await google.colab.kernel.invokeFunction(\n",
              "            'suggestCharts', [key], {});\n",
              "      } catch (error) {\n",
              "        console.error('Error during call to suggestCharts:', error);\n",
              "      }\n",
              "      quickchartButtonEl.classList.remove('colab-df-spinner');\n",
              "      quickchartButtonEl.classList.add('colab-df-quickchart-complete');\n",
              "    }\n",
              "    (() => {\n",
              "      let quickchartButtonEl =\n",
              "        document.querySelector('#df-2a234e9f-afb3-492c-87ca-f456f9c9b7f4 button');\n",
              "      quickchartButtonEl.style.display =\n",
              "        google.colab.kernel.accessAllowed ? 'block' : 'none';\n",
              "    })();\n",
              "  </script>\n",
              "</div>\n",
              "    </div>\n",
              "  </div>\n"
            ],
            "application/vnd.google.colaboratory.intrinsic+json": {
              "type": "dataframe",
              "variable_name": "df",
              "summary": "{\n  \"name\": \"df\",\n  \"rows\": 32561,\n  \"fields\": [\n    {\n      \"column\": \"age\",\n      \"properties\": {\n        \"dtype\": \"number\",\n        \"std\": 13,\n        \"min\": 17,\n        \"max\": 90,\n        \"num_unique_values\": 73,\n        \"samples\": [\n          28,\n          73,\n          35\n        ],\n        \"semantic_type\": \"\",\n        \"description\": \"\"\n      }\n    },\n    {\n      \"column\": \"workclass\",\n      \"properties\": {\n        \"dtype\": \"category\",\n        \"num_unique_values\": 8,\n        \"samples\": [\n          \"Self-emp-not-inc\",\n          \"Self-emp-inc\",\n          \"State-gov\"\n        ],\n        \"semantic_type\": \"\",\n        \"description\": \"\"\n      }\n    },\n    {\n      \"column\": \"fnlwgt\",\n      \"properties\": {\n        \"dtype\": \"number\",\n        \"std\": 105549,\n        \"min\": 12285,\n        \"max\": 1484705,\n        \"num_unique_values\": 21648,\n        \"samples\": [\n          128485,\n          469907,\n          235951\n        ],\n        \"semantic_type\": \"\",\n        \"description\": \"\"\n      }\n    },\n    {\n      \"column\": \"education\",\n      \"properties\": {\n        \"dtype\": \"category\",\n        \"num_unique_values\": 16,\n        \"samples\": [\n          \"Bachelors\",\n          \"HS-grad\",\n          \"Some-college\"\n        ],\n        \"semantic_type\": \"\",\n        \"description\": \"\"\n      }\n    },\n    {\n      \"column\": \"education-num\",\n      \"properties\": {\n        \"dtype\": \"number\",\n        \"std\": 2,\n        \"min\": 1,\n        \"max\": 16,\n        \"num_unique_values\": 16,\n        \"samples\": [\n          13,\n          9,\n          10\n        ],\n        \"semantic_type\": \"\",\n        \"description\": \"\"\n      }\n    },\n    {\n      \"column\": \"marital-status\",\n      \"properties\": {\n        \"dtype\": \"category\",\n        \"num_unique_values\": 7,\n        \"samples\": [\n          \"Never-married\",\n          \"Married-civ-spouse\",\n          \"Married-AF-spouse\"\n        ],\n        \"semantic_type\": \"\",\n        \"description\": \"\"\n      }\n    },\n    {\n      \"column\": \"occupation\",\n      \"properties\": {\n        \"dtype\": \"category\",\n        \"num_unique_values\": 14,\n        \"samples\": [\n          \"Machine-op-inspct\",\n          \"Protective-serv\",\n          \"Adm-clerical\"\n        ],\n        \"semantic_type\": \"\",\n        \"description\": \"\"\n      }\n    },\n    {\n      \"column\": \"relationship\",\n      \"properties\": {\n        \"dtype\": \"category\",\n        \"num_unique_values\": 6,\n        \"samples\": [\n          \"Not-in-family\",\n          \"Husband\",\n          \"Other-relative\"\n        ],\n        \"semantic_type\": \"\",\n        \"description\": \"\"\n      }\n    },\n    {\n      \"column\": \"race\",\n      \"properties\": {\n        \"dtype\": \"category\",\n        \"num_unique_values\": 5,\n        \"samples\": [\n          \"Black\",\n          \"Other\",\n          \"Asian-Pac-Islander\"\n        ],\n        \"semantic_type\": \"\",\n        \"description\": \"\"\n      }\n    },\n    {\n      \"column\": \"sex\",\n      \"properties\": {\n        \"dtype\": \"category\",\n        \"num_unique_values\": 2,\n        \"samples\": [\n          \"Female\",\n          \"Male\"\n        ],\n        \"semantic_type\": \"\",\n        \"description\": \"\"\n      }\n    },\n    {\n      \"column\": \"capital-gain\",\n      \"properties\": {\n        \"dtype\": \"number\",\n        \"std\": 7385,\n        \"min\": 0,\n        \"max\": 99999,\n        \"num_unique_values\": 119,\n        \"samples\": [\n          3781,\n          15831\n        ],\n        \"semantic_type\": \"\",\n        \"description\": \"\"\n      }\n    },\n    {\n      \"column\": \"capital-loss\",\n      \"properties\": {\n        \"dtype\": \"number\",\n        \"std\": 402,\n        \"min\": 0,\n        \"max\": 4356,\n        \"num_unique_values\": 92,\n        \"samples\": [\n          419,\n          2051\n        ],\n        \"semantic_type\": \"\",\n        \"description\": \"\"\n      }\n    },\n    {\n      \"column\": \"hours-per-week\",\n      \"properties\": {\n        \"dtype\": \"number\",\n        \"std\": 12,\n        \"min\": 1,\n        \"max\": 99,\n        \"num_unique_values\": 94,\n        \"samples\": [\n          6,\n          22\n        ],\n        \"semantic_type\": \"\",\n        \"description\": \"\"\n      }\n    },\n    {\n      \"column\": \"native-country\",\n      \"properties\": {\n        \"dtype\": \"category\",\n        \"num_unique_values\": 41,\n        \"samples\": [\n          \"El-Salvador\",\n          \"Italy\"\n        ],\n        \"semantic_type\": \"\",\n        \"description\": \"\"\n      }\n    },\n    {\n      \"column\": \"income\",\n      \"properties\": {\n        \"dtype\": \"category\",\n        \"num_unique_values\": 2,\n        \"samples\": [\n          \">50K\",\n          \"<=50K\"\n        ],\n        \"semantic_type\": \"\",\n        \"description\": \"\"\n      }\n    }\n  ]\n}"
            }
          },
          "metadata": {},
          "execution_count": 33
        }
      ],
      "source": [
        "columns='age,workclass,fnlwgt,education,education-num,marital-status,occupation,relationship,race,sex,capital-gain,capital-loss,hours-per-week,native-country,income'.split(',')\n",
        "\n",
        "df = pd.read_csv(\n",
        "    'https://archive.ics.uci.edu/ml/machine-learning-databases/adult/adult.data', names=columns, na_values='?', skipinitialspace=True)\n",
        "\n",
        "df['age'] = pd.to_numeric(df['age'], errors='coerce')\n",
        "df = df.dropna(subset=['age'])\n",
        "\n",
        "df.head()"
      ]
    },
    {
      "cell_type": "markdown",
      "metadata": {
        "id": "5wzonv_GqMEf"
      },
      "source": [
        "1) Выведите последние 10 элеметнов датасета"
      ]
    },
    {
      "cell_type": "code",
      "execution_count": null,
      "metadata": {
        "colab": {
          "base_uri": "https://localhost:8080/"
        },
        "id": "NvUaBHb1qMEf",
        "outputId": "e11de5e0-20b6-4204-a4c3-b4e8799efdd6"
      },
      "outputs": [
        {
          "output_type": "stream",
          "name": "stdout",
          "text": [
            "       age      workclass  fnlwgt      education  education-num  \\\n",
            "32551   32        Private   34066           10th              6   \n",
            "32552   43        Private   84661      Assoc-voc             11   \n",
            "32553   32        Private  116138        Masters             14   \n",
            "32554   53        Private  321865        Masters             14   \n",
            "32555   22        Private  310152   Some-college             10   \n",
            "32556   27        Private  257302     Assoc-acdm             12   \n",
            "32557   40        Private  154374        HS-grad              9   \n",
            "32558   58        Private  151910        HS-grad              9   \n",
            "32559   22        Private  201490        HS-grad              9   \n",
            "32560   52   Self-emp-inc  287927        HS-grad              9   \n",
            "\n",
            "            marital-status          occupation    relationship  \\\n",
            "32551   Married-civ-spouse   Handlers-cleaners         Husband   \n",
            "32552   Married-civ-spouse               Sales         Husband   \n",
            "32553        Never-married        Tech-support   Not-in-family   \n",
            "32554   Married-civ-spouse     Exec-managerial         Husband   \n",
            "32555        Never-married     Protective-serv   Not-in-family   \n",
            "32556   Married-civ-spouse        Tech-support            Wife   \n",
            "32557   Married-civ-spouse   Machine-op-inspct         Husband   \n",
            "32558              Widowed        Adm-clerical       Unmarried   \n",
            "32559        Never-married        Adm-clerical       Own-child   \n",
            "32560   Married-civ-spouse     Exec-managerial            Wife   \n",
            "\n",
            "                      race      sex  capital-gain  capital-loss  \\\n",
            "32551   Amer-Indian-Eskimo     Male             0             0   \n",
            "32552                White     Male             0             0   \n",
            "32553   Asian-Pac-Islander     Male             0             0   \n",
            "32554                White     Male             0             0   \n",
            "32555                White     Male             0             0   \n",
            "32556                White   Female             0             0   \n",
            "32557                White     Male             0             0   \n",
            "32558                White   Female             0             0   \n",
            "32559                White     Male             0             0   \n",
            "32560                White   Female         15024             0   \n",
            "\n",
            "       hours-per-week  native-country  income  \n",
            "32551              40   United-States   <=50K  \n",
            "32552              45   United-States   <=50K  \n",
            "32553              11          Taiwan   <=50K  \n",
            "32554              40   United-States    >50K  \n",
            "32555              40   United-States   <=50K  \n",
            "32556              38   United-States   <=50K  \n",
            "32557              40   United-States    >50K  \n",
            "32558              40   United-States   <=50K  \n",
            "32559              20   United-States   <=50K  \n",
            "32560              40   United-States    >50K  \n"
          ]
        }
      ],
      "source": [
        "print(df.tail(10))"
      ]
    },
    {
      "cell_type": "markdown",
      "metadata": {
        "id": "74XIbdOeqMEf"
      },
      "source": [
        "2) Сколько колонок и сколько строк в этом датасете?"
      ]
    },
    {
      "cell_type": "code",
      "execution_count": null,
      "metadata": {
        "colab": {
          "base_uri": "https://localhost:8080/"
        },
        "id": "FiyXaoqfqMEf",
        "outputId": "0b3ab9f1-3fa8-462a-c165-5fb62ec68aa4"
      },
      "outputs": [
        {
          "output_type": "stream",
          "name": "stdout",
          "text": [
            "Количество строк: 32561, Количество колонок: 15\n"
          ]
        }
      ],
      "source": [
        "num_rows, num_columns = df.shape\n",
        "print(f\"Количество строк: {num_rows}, Количество колонок: {num_columns}\")"
      ]
    },
    {
      "cell_type": "markdown",
      "metadata": {
        "id": "BCpdrPS-qMEf"
      },
      "source": [
        "3) Какие типы данных у элементов этого датасета?"
      ]
    },
    {
      "cell_type": "code",
      "execution_count": null,
      "metadata": {
        "colab": {
          "base_uri": "https://localhost:8080/"
        },
        "id": "n8dZpb52qMEg",
        "outputId": "e871f0dc-f35e-469b-e747-0396baf17160"
      },
      "outputs": [
        {
          "output_type": "stream",
          "name": "stdout",
          "text": [
            "age                int64\n",
            "workclass         object\n",
            "fnlwgt             int64\n",
            "education         object\n",
            "education-num      int64\n",
            "marital-status    object\n",
            "occupation        object\n",
            "relationship      object\n",
            "race              object\n",
            "sex               object\n",
            "capital-gain       int64\n",
            "capital-loss       int64\n",
            "hours-per-week     int64\n",
            "native-country    object\n",
            "income            object\n",
            "dtype: object\n"
          ]
        }
      ],
      "source": [
        "print(df.dtypes)"
      ]
    },
    {
      "cell_type": "markdown",
      "metadata": {
        "id": "NZ1OOjmkqMEg"
      },
      "source": [
        "4) Какие признаки имеют пропуски?"
      ]
    },
    {
      "cell_type": "code",
      "execution_count": null,
      "metadata": {
        "colab": {
          "base_uri": "https://localhost:8080/"
        },
        "id": "TxDiFvOGqMEg",
        "outputId": "3883c907-f510-4b2b-a74e-c8ff99e7bb1c"
      },
      "outputs": [
        {
          "output_type": "stream",
          "name": "stdout",
          "text": [
            "признаки имеют пропуски:\n",
            "Series([], dtype: int64)\n"
          ]
        }
      ],
      "source": [
        "missing = df.isnull().sum()\n",
        "print(\"признаки имеют пропуски:\")\n",
        "print(missing[missing > 0])"
      ]
    },
    {
      "cell_type": "markdown",
      "metadata": {
        "id": "r0OhCX2tqMEg"
      },
      "source": [
        "5) Как вы думаете, с чем связаны пропуски этих значение. Напишите развернутый ответ в ячейке ниже."
      ]
    },
    {
      "cell_type": "markdown",
      "metadata": {
        "id": "sLVvA1tKqMEg"
      },
      "source": [
        "*Ваш* ответ:"
      ]
    },
    {
      "cell_type": "markdown",
      "metadata": {
        "id": "Ex9ubNx_qMEg"
      },
      "source": [
        "6) Какие и сколько различных рабочих классов workclass представлено в выборке?"
      ]
    },
    {
      "cell_type": "code",
      "execution_count": null,
      "metadata": {
        "colab": {
          "base_uri": "https://localhost:8080/"
        },
        "id": "IF3_fR-nqMEh",
        "outputId": "618f746f-c3de-46fc-a8d2-fc3c9be1790e"
      },
      "outputs": [
        {
          "output_type": "stream",
          "name": "stdout",
          "text": [
            "Количество различных рабочих классов:\n",
            "workclass\n",
            "Private             22696\n",
            "Self-emp-not-inc     2541\n",
            "Local-gov            2093\n",
            "?                    1836\n",
            "State-gov            1298\n",
            "Self-emp-inc         1116\n",
            "Federal-gov           960\n",
            "Without-pay            14\n",
            "Never-worked            7\n",
            "Name: count, dtype: int64\n"
          ]
        }
      ],
      "source": [
        "workclassCounts = df['workclass'].value_counts(dropna=False)\n",
        "print(\"Количество различных рабочих классов:\")\n",
        "print(workclassCounts)"
      ]
    },
    {
      "cell_type": "markdown",
      "metadata": {
        "id": "dry4UgSMqMEh"
      },
      "source": [
        "7) Какой средний возраст женщин и мужчин?"
      ]
    },
    {
      "cell_type": "code",
      "execution_count": null,
      "metadata": {
        "id": "vxAyWVgVqMEh"
      },
      "outputs": [],
      "source": []
    },
    {
      "cell_type": "markdown",
      "metadata": {
        "id": "53JJcmf1qMEh"
      },
      "source": [
        "8) Постройте гистограмму(bar) распределения образования людей (education)"
      ]
    },
    {
      "cell_type": "code",
      "execution_count": null,
      "metadata": {
        "colab": {
          "base_uri": "https://localhost:8080/",
          "height": 487
        },
        "id": "rzoHehYKqMEh",
        "outputId": "bdb1f266-74bb-4ac6-905f-8ab9fede93b2"
      },
      "outputs": [
        {
          "output_type": "display_data",
          "data": {
            "text/plain": [
              "<Figure size 640x480 with 1 Axes>"
            ],
            "image/png": "[encoded data removed]"
          },
          "metadata": {}
        }
      ],
      "source": [
        "import matplotlib.pyplot as plt\n",
        "\n",
        "df['education'].value_counts().plot(kind='bar', color='skyblue')\n",
        "plt.title('Распределение уровня образования')\n",
        "plt.xlabel('Уровень образования')\n",
        "plt.ylabel('Количество людей')\n",
        "plt.xticks(rotation=45)\n",
        "plt.tight_layout()\n",
        "plt.show()"
      ]
    },
    {
      "cell_type": "markdown",
      "metadata": {
        "id": "s1RfBmgGqMEh"
      },
      "source": [
        "9) Каковы средние значения и среднеквадратичные отклонения возраста тех, кто получает более 50K в год (признак salary) и тех, кто получает менее 50K в год?"
      ]
    },
    {
      "cell_type": "code",
      "execution_count": null,
      "metadata": {
        "colab": {
          "base_uri": "https://localhost:8080/"
        },
        "id": "1_OtbzbqqMEh",
        "outputId": "76ee864e-2ecb-4f0b-be48-0d7f16ff3a3c"
      },
      "outputs": [
        {
          "output_type": "stream",
          "name": "stdout",
          "text": [
            "Средний возраст >50K: 44, СКО: 10.52\n",
            "Средний возраст <=50K: 37, СКО: 14.02\n"
          ]
        }
      ],
      "source": [
        "high_income = df[df['income'] == '>50K']['age']\n",
        "low_income = df[df['income'] == '<=50K']['age']\n",
        "\n",
        "mean_high_income = high_income.mean()\n",
        "std_high_income = high_income.std()\n",
        "\n",
        "mean_low_income = low_income.mean()\n",
        "std_low_income = low_income.std()\n",
        "\n",
        "mean_high_income = round(mean_high_income)\n",
        "std_high_income = round(std_high_income, 2)\n",
        "\n",
        "mean_low_income = round(mean_low_income)\n",
        "std_low_income = round(std_low_income, 2)\n",
        "\n",
        "print(f\"Average age >50K: {mean_high_income}, СКО: {std_high_income}\")\n",
        "print(f\"Average age <=50K: {mean_low_income}, СКО: {std_low_income}\")"
      ]
    },
    {
      "cell_type": "markdown",
      "metadata": {
        "id": "NlbYU0j8qMEh"
      },
      "source": [
        "10) Правда ли, что люди, которые получают больше 50k, имеют как минимум высшее образование? (признак education - Bachelors, Prof-school, Assoc-acdm, Assoc-voc, Masters или Doctorate)"
      ]
    },
    {
      "cell_type": "code",
      "execution_count": null,
      "metadata": {
        "colab": {
          "base_uri": "https://localhost:8080/"
        },
        "id": "KKi7alsyqMEi",
        "outputId": "5dc3d2fb-6e1a-4f06-d81f-78eda9c5e3b7"
      },
      "outputs": [
        {
          "output_type": "stream",
          "name": "stdout",
          "text": [
            "Неправда\n",
            "Количество людей с доходом >50K без высшего образования: 3306\n"
          ]
        }
      ],
      "source": [
        "higher_education = ['Bachelors', 'Prof-school', 'Assoc-acdm', 'Assoc-voc', 'Masters', 'Doctorate']\n",
        "\n",
        "high_income = df[df['income'] == '>50K']\n",
        "high_income_education_check = high_income['education'].isin(higher_education)\n",
        "\n",
        "without_higher_education_count = high_income[~high_income_education_check].shape[0]\n",
        "\n",
        "if high_income_education_check.all():\n",
        "    print(\"Все люди с доходом >50K имеют высшее образование.\")\n",
        "else:\n",
        "    print(\"Неправда\")\n",
        "    print(f\"Количество людей с доходом >50K без высшего образования: {without_higher_education_count}\")"
      ]
    },
    {
      "cell_type": "markdown",
      "metadata": {
        "id": "BjTLNkjTqMEi"
      },
      "source": [
        "11) Среди кого больше доля зарабатывающих много (>50K): среди женатых или холостых мужчин (признак marital-status)? Женатыми считаем тех, у кого marital-status начинается с Married (Married-civ-spouse, Married-spouse-absent или Married-AF-spouse), остальных считаем холостыми."
      ]
    },
    {
      "cell_type": "code",
      "execution_count": null,
      "metadata": {
        "colab": {
          "base_uri": "https://localhost:8080/"
        },
        "id": "c5LoXnGqqMEi",
        "outputId": "42a051a1-d346-428f-e507-9235214eab44"
      },
      "outputs": [
        {
          "output_type": "stream",
          "name": "stdout",
          "text": [
            "Доля зарабатывающих >50K среди женатых мужчин: 44.05%\n",
            "Доля зарабатывающих >50K среди холостых мужчин: 8.45%\n"
          ]
        }
      ],
      "source": [
        "married_statuses = ['Married-civ-spouse', 'Married-spouse-absent', 'Married-AF-spouse']\n",
        "single_statuses = df['marital-status'].unique()\n",
        "single_statuses = [status for status in single_statuses if status not in married_statuses]\n",
        "\n",
        "married_high_income_ratio = df[(df['sex'] == 'Male') & (df['marital-status'].isin(married_statuses)) & (df['income'] == '>50K')].shape[0] / df[(df['sex'] == 'Male') & (df['marital-status'].isin(married_statuses))].shape[0]\n",
        "single_high_income_ratio = df[(df['sex'] == 'Male') & (df['marital-status'].isin(single_statuses)) & (df['income'] == '>50K')].shape[0] / df[(df['sex'] == 'Male') & (df['marital-status'].isin(single_statuses))].shape[0]\n",
        "\n",
        "print(f\"Доля зарабатывающих >50K среди женатых мужчин: {married_high_income_ratio:.2%}\")\n",
        "print(f\"Доля зарабатывающих >50K среди холостых мужчин: {single_high_income_ratio:.2%}\")"
      ]
    },
    {
      "cell_type": "markdown",
      "metadata": {
        "id": "OoU1iRQLqMEi"
      },
      "source": [
        "12) Посчитайте среднее время работы (hours-per-week) зарабатывающих мало и много (salary) для каждой страны (native-country)."
      ]
    },
    {
      "cell_type": "code",
      "execution_count": null,
      "metadata": {
        "colab": {
          "base_uri": "https://localhost:8080/"
        },
        "id": "btjzw-spqMEi",
        "outputId": "b4725ee5-714e-4a9d-ec74-c11778f8b256"
      },
      "outputs": [
        {
          "output_type": "stream",
          "name": "stdout",
          "text": [
            "income                      <=50K  >50K\n",
            "native-country                         \n",
            "Cambodia                     41.0  40.0\n",
            "Canada                       38.0  46.0\n",
            "China                        37.0  39.0\n",
            "Columbia                     39.0  50.0\n",
            "Cuba                         38.0  42.0\n",
            "Dominican-Republic           42.0  47.0\n",
            "Ecuador                      38.0  49.0\n",
            "El-Salvador                  36.0  45.0\n",
            "England                      40.0  45.0\n",
            "France                       41.0  51.0\n",
            "Germany                      39.0  45.0\n",
            "Greece                       42.0  51.0\n",
            "Guatemala                    39.0  37.0\n",
            "Haiti                        36.0  43.0\n",
            "Holand-Netherlands           40.0   NaN\n",
            "Honduras                     34.0  60.0\n",
            "Hong                         39.0  45.0\n",
            "Hungary                      31.0  50.0\n",
            "India                        38.0  46.0\n",
            "Iran                         41.0  48.0\n",
            "Ireland                      41.0  48.0\n",
            "Italy                        40.0  45.0\n",
            "Jamaica                      38.0  41.0\n",
            "Japan                        41.0  48.0\n",
            "Laos                         40.0  40.0\n",
            "Mexico                       40.0  47.0\n",
            "Nicaragua                    36.0  38.0\n",
            "Outlying-US(Guam-USVI-etc)   42.0   NaN\n",
            "Peru                         35.0  40.0\n",
            "Philippines                  38.0  43.0\n",
            "Poland                       38.0  39.0\n",
            "Portugal                     42.0  42.0\n",
            "Puerto-Rico                  38.0  39.0\n",
            "Scotland                     39.0  47.0\n",
            "South                        40.0  51.0\n",
            "Taiwan                       34.0  47.0\n",
            "Thailand                     43.0  58.0\n",
            "Trinadad&Tobago              37.0  40.0\n",
            "United-States                39.0  46.0\n",
            "Vietnam                      37.0  39.0\n",
            "Yugoslavia                   42.0  50.0\n"
          ]
        }
      ],
      "source": [
        "avg_hours_per_country = df.groupby(['native-country', 'income'])['hours-per-week'].mean().round().unstack()\n",
        "print(avg_hours_per_country)"
      ]
    },
    {
      "cell_type": "markdown",
      "metadata": {
        "id": "gAjJnlwmqMEi"
      },
      "source": [
        "13) Постройте сводную таблицу для сравнения уровня образования и разницы между capital.gain и capital.loss (то есть пассивный доход). Сделайте так, чтобы capital.gain - capital.loss создали не больше 10 разных уникальных значений. То есть, gain и loss - это числа в каком-то диапазоне. Это количественные признаки из вещественных чисел. С помощью математических функций, типа log, извлечение корня N-ой степени и округления можно перейти к категориальным признакам."
      ]
    },
    {
      "cell_type": "code",
      "execution_count": null,
      "metadata": {
        "colab": {
          "base_uri": "https://localhost:8080/"
        },
        "id": "2g52UGlbqMEi",
        "outputId": "50341289-8d17-4205-cfd7-96a150fe7ddf"
      },
      "outputs": [
        {
          "output_type": "stream",
          "name": "stdout",
          "text": [
            "capital_diff_cat      0    1   2   3  4   9\n",
            "education                                  \n",
            "10th                926    3   1   1  0   2\n",
            "11th               1158   17   0   0  0   0\n",
            "12th                425    7   1   0  0   0\n",
            "1st-4th             167    1   0   0  0   0\n",
            "5th-6th             329    4   0   0  0   0\n",
            "7th-8th             639    7   0   0  0   0\n",
            "9th                 513    0   0   0  0   1\n",
            "Assoc-acdm         1026   38   2   0  0   1\n",
            "Assoc-voc          1322   56   2   1  0   1\n",
            "Bachelors          4909  383  10  12  0  41\n",
            "Doctorate           350   40  10   1  0  12\n",
            "HS-grad           10261  207   4   6  0  23\n",
            "Masters            1512  176   7   9  1  18\n",
            "Preschool            50    0   0   0  1   0\n",
            "Prof-school         442   73   9   6  0  46\n",
            "Some-college       7070  195   9   3  0  14\n"
          ]
        }
      ],
      "source": [
        "df['capital_diff'] = df['capital-gain'] - df['capital-loss']\n",
        "\n",
        "df['capital_diff_cat'] = pd.cut(df['capital_diff'], bins=10, labels=False)\n",
        "\n",
        "pivot_table = df.pivot_table(index='education', columns='capital_diff_cat', values='capital_diff', aggfunc='count', fill_value=0)\n",
        "print(pivot_table)"
      ]
    },
    {
      "cell_type": "markdown",
      "metadata": {
        "id": "gzhTflKwqMEi"
      },
      "source": [
        "14) Женщины из каких стран получают в среднем большую зарплату (>50K) чаще."
      ]
    },
    {
      "cell_type": "code",
      "execution_count": null,
      "metadata": {
        "id": "yHdzC5ecqMEi"
      },
      "outputs": [],
      "source": [
        "female_high_income = df[(df['sex'] == 'Female') & (df['income'] == '>50K')]\n",
        "country_high_income = female_high_income['native-country'].value_counts(normalize=True) * 100\n",
        "\n",
        "country_high_income = country_high_income.round(2)\n",
        "\n",
        "print(\"Страны, где женщины получают большую зарплату >50K чаще:\")\n",
        "print(country_high_income.sort_values(ascending=False))"
      ]
    },
    {
      "cell_type": "markdown",
      "metadata": {
        "id": "BJx0FTiIqMEj"
      },
      "source": [
        "15) Создайте случайную колонку - magic_salary, которую нужно будет вычислить следующим образом: если зарплата небольшая (<50K), тогда случайно выберите число из диапазона [0,50]. Если зарплата выше 50K тогда из диапазона [51, 200]. Посчитайте среднюю зарплату в час для групп людей с одни уровнем образования на основе нашей случайной колонки magic_salary"
      ]
    },
    {
      "cell_type": "code",
      "source": [
        "import numpy as np\n",
        "\n",
        "df['magic_salary'] = df['income'].apply(lambda x: np.random.randint(0, 51) if x == '<=50K' else np.random.randint(51, 201))\n",
        "\n",
        "education_magic_salary = df.groupby('education')['magic_salary'].mean().round().sort_values(ascending=False)\n",
        "\n",
        "print(\"Средняя зарплата в час для каждого уровня образования (отсортировано по убыванию и округлено до ближайшего целого):\")\n",
        "print(education_magic_salary)"
      ],
      "metadata": {
        "colab": {
          "base_uri": "https://localhost:8080/"
        },
        "id": "A0XmyoVI00yX",
        "outputId": "02018a34-15e2-49dd-b6d1-2f8eb17aaaca"
      },
      "execution_count": null,
      "outputs": [
        {
          "output_type": "stream",
          "name": "stdout",
          "text": [
            "Средняя зарплата в час для каждого уровня образования (отсортировано по убыванию и округлено до ближайшего целого):\n",
            "education\n",
            "Doctorate       100.0\n",
            "Prof-school      97.0\n",
            "Masters          82.0\n",
            "Bachelors        66.0\n",
            "Assoc-voc        51.0\n",
            "Assoc-acdm       48.0\n",
            "Some-college     44.0\n",
            "HS-grad          41.0\n",
            "10th             32.0\n",
            "12th             32.0\n",
            "7th-8th          32.0\n",
            "9th              32.0\n",
            "11th             30.0\n",
            "1st-4th          30.0\n",
            "5th-6th          29.0\n",
            "Preschool        25.0\n",
            "Name: magic_salary, dtype: float64\n"
          ]
        }
      ]
    }
  ],
  "metadata": {
    "kernelspec": {
      "display_name": "Python 3 (ipykernel)",
      "language": "python",
      "name": "python3"
    },
    "language_info": {
      "codemirror_mode": {
        "name": "ipython",
        "version": 3
      },
      "file_extension": ".py",
      "mimetype": "text/x-python",
      "name": "python",
      "nbconvert_exporter": "python",
      "pygments_lexer": "ipython3",
      "version": "3.12.4"
    },
    "colab": {
      "provenance": []
    }
  },
  "nbformat": 4,
  "nbformat_minor": 0
}